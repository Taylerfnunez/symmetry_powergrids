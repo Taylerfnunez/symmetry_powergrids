{
 "cells": [
  {
   "cell_type": "code",
   "execution_count": 23,
   "id": "3df44be4-74d3-4893-8dcc-4c0a3c0b362e",
   "metadata": {},
   "outputs": [],
   "source": [
    "#The purpose of this notebook is to compute the basin stability of a network governed by the coupled oscillator model\n",
    "#Import necessary packages\n",
    "import numpy as np\n",
    "import matplotlib.pyplot as plt\n",
    "import matplotlib.gridspec as gridspec\n",
    "import scipy.integrate\n",
    "import scipy.stats\n",
    "from scipy.linalg import circulant\n",
    "from scipy.optimize import curve_fit\n",
    "import time\n",
    "import networkx as nx\n",
    "\n"
   ]
  },
  {
   "cell_type": "code",
   "execution_count": 150,
   "id": "b4b4043a-b3d0-4eb7-8757-ba76551d5fac",
   "metadata": {},
   "outputs": [],
   "source": [
    "#Define functions\n",
    "\n",
    "\n",
    "def create_ensembles( pos, first_entries, second_entries, T, theta_s, omega_s):\n",
    "    phase_group = []\n",
    "    freq_group = []\n",
    "    # For each index, set the `pos` element as the first entry, and others as `theta_s`\n",
    "    for pval in first_entries:\n",
    "        phase_tuple_ = [theta_s] * T  # Initialize a tuple with all elements set to theta_s\n",
    "        phase_tuple_[pos] = pval  # Set the desired position with the first entry\n",
    "        phase_group.append(tuple(phase_tuple_))  # Convert list to tuple\n",
    "\n",
    "    for fval in second_entries:\n",
    "        freq_tuple_ = [omega_s] * T  # Initialize a tuple with all elements set to theta_s\n",
    "        freq_tuple_[pos] = fval  # Set the desired position with the first entry\n",
    "        freq_group.append(tuple(freq_tuple_))  # Convert list to tuple\n",
    "    return phase_group, freq_group\n",
    "\n",
    "\n",
    "\n",
    "def kuramoto_function(phase,t,K,N,omega):\n",
    "    phase_matr = np.tile(phase,(N,1))\n",
    "    temp = np.multiply(K,np.sin(phase_matr-phase_matr.T))\n",
    "    incr = omega + np.sum(temp,axis=1)\n",
    "    return (incr)\n",
    "\n",
    "\n",
    "\n",
    "def simulate_kuramoto(kuramoto, initial_θ, initial_ω, t):\n",
    "    sol =scipy.integrate.odeint(kuramoto,y0=initial_θ,t=t,args=(K_ij,N,initial_ω),hmax=0.1,full_output=0,rtol=1e-4,atol=1e-4)\n",
    "    ode_sol = kuramoto_function(sol[-1],0,K_ij,N,initial_ω)\n",
    "    return sol, ode_sol\n",
    "    \n"
   ]
  },
  {
   "cell_type": "code",
   "execution_count": 151,
   "id": "fa42f4fd-3e35-4856-a148-7bf15b410b96",
   "metadata": {},
   "outputs": [],
   "source": [
    "#### Model Parameters #### \n",
    "##########################\n",
    "T= 3 # number of ensembles you want to test \n",
    "N= 3 #number of nodes\n",
    "θ_s = np.arcsin(1) #synchronous phase state is arcsin(P/K)\n",
    "ω_s = 0 # synchronous frequency\n",
    "\n",
    "\n",
    "# Define the parameters for region Q \n",
    "theta_min = 0\n",
    "theta_max = 2 * np.pi  # Theta ranges from 0 to 2*pi\n",
    "omega_min = -100\n",
    "omega_max = 100  # Omega ranges from -100 to 100\n",
    "\n",
    "\n",
    "# Draw T initial values \n",
    "theta_values = np.random.uniform(low=theta_min, high=theta_max, size=T)\n",
    "#omega_values = np.random.uniform(low=omega_min, high=omega_max, size=T)\n",
    "omega_values =np.zeros(N)\n",
    "initial_values = list(zip(theta_values, omega_values))\n",
    "first_entries = [val[0] for val in initial_values]\n",
    "second_entries = [val[1] for val in initial_values]\n",
    "\n",
    "\n",
    "#initial condition inputs for Kuramoto function\n",
    "phase_ensembles =[] \n",
    "freq_ensembles = []\n",
    "initial_values_for_kuramoto =[]\n",
    "\n",
    "for pos in range(N):\n",
    "    ensembles = create_ensembles(pos, first_entries, second_entries, T, θ_s, ω_s)\n",
    "    phase_group = ensembles[0]\n",
    "    freq_group = ensembles[1]\n",
    "    phase_ensembles.extend(phase_group) \n",
    "    freq_ensembles.extend(freq_group)\n",
    "\n",
    "for i in range(len(phase_ensembles)):\n",
    "    initial_values_for_kuramoto.append([phase_ensembles[i], freq_ensembles[i]])\n",
    "\n",
    "\n",
    "\n",
    "#Time iterations\n",
    "t_max = 10000\n",
    "t_min = 0\n",
    "t = np.arange(t_min,t_max,1)\n",
    "\n",
    "#Create Network\n",
    "G=nx.complete_graph(N)\n",
    "K_ij=nx.to_numpy_array(G)\n",
    "#nx.draw(G)"
   ]
  },
  {
   "cell_type": "code",
   "execution_count": 152,
   "id": "b52ba62b-4eff-4101-8189-2226afd71192",
   "metadata": {},
   "outputs": [],
   "source": [
    "#Simulate Kuramoto for all initial values\n",
    "\n",
    "results=[]\n",
    "for i in range(len(phase_ensembles)):\n",
    "    results.append(simulate_kuramoto(kuramoto_function, initial_values_for_kuramoto[i][0], initial_values_for_kuramoto[i][1], t))"
   ]
  },
  {
   "cell_type": "code",
   "execution_count": 154,
   "id": "c1be89de-3522-439e-ba19-6a5f2ec6b200",
   "metadata": {},
   "outputs": [
    {
     "data": {
      "text/plain": [
       "(array([[1.30151874, 1.57079633, 1.57079633],\n",
       "        [1.47203029, 1.48554055, 1.48554055],\n",
       "        [1.48059248, 1.48125945, 1.48125945],\n",
       "        ...,\n",
       "        [1.48103713, 1.48103713, 1.48103713],\n",
       "        [1.48103713, 1.48103713, 1.48103713],\n",
       "        [1.48103713, 1.48103713, 1.48103713]]),\n",
       " array([ 8.8817842e-16, -4.4408921e-16, -4.4408921e-16]))"
      ]
     },
     "execution_count": 154,
     "metadata": {},
     "output_type": "execute_result"
    }
   ],
   "source": [
    "results[0]"
   ]
  },
  {
   "cell_type": "code",
   "execution_count": 114,
   "id": "a53ef61e-bf0a-41d1-a066-4f06cf3219e0",
   "metadata": {},
   "outputs": [],
   "source": []
  }
 ],
 "metadata": {
  "kernelspec": {
   "display_name": "Python 3 (ipykernel)",
   "language": "python",
   "name": "python3"
  },
  "language_info": {
   "codemirror_mode": {
    "name": "ipython",
    "version": 3
   },
   "file_extension": ".py",
   "mimetype": "text/x-python",
   "name": "python",
   "nbconvert_exporter": "python",
   "pygments_lexer": "ipython3",
   "version": "3.11.7"
  }
 },
 "nbformat": 4,
 "nbformat_minor": 5
}
